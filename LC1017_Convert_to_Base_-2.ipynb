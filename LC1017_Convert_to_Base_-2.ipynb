{
 "cells": [
  {
   "cell_type": "markdown",
   "metadata": {},
   "source": [
    "<h4>Convert to Base -2\n",
    "\n",
    "Given a number N, return a string consisting of \"0\"s and \"1\"s that represents its value in base -2 (negative two).\n",
    "\n",
    "The returned string must have no leading zeroes, unless the string is \"0\".\n",
    "\n",
    "Example 1:\n",
    "\n",
    "Input: 2\n",
    "Output: \"110\"\n",
    "Explantion: (-2) ^ 2 + (-2) ^ 1 = 2\n",
    "Example 2:\n",
    "\n",
    "Input: 3\n",
    "Output: \"111\"\n",
    "Explantion: (-2) ^ 2 + (-2) ^ 1 + (-2) ^ 0 = 3\n",
    "Example 3:\n",
    "\n",
    "Input: 4\n",
    "Output: \"100\"\n",
    "Explantion: (-2) ^ 2 = 4"
   ]
  },
  {
   "cell_type": "markdown",
   "metadata": {},
   "source": [
    "Thoughts:\n",
    "\n",
    "In Python, the reminder always has same sign with divisor, so when divided by -2 it can only be 0 or -1:\n",
    "```python\n",
    "-9 % -2 = -1\n",
    "-9 // -2 = 4\n",
    "\n",
    "9 % -2 = -1\n",
    "9 // -2 = -5\n",
    "\n",
    "-8 % -2 = 0\n",
    "-8 // -2 = 4\n",
    "```\n",
    "But we always want the reminder be positive, so we need it to be this:\n",
    "```python\n",
    "-9 % -2 = -1\n",
    "-9 // -2 = 4\n",
    "change: -9 = -1 + (-2) * 4 = 1 + (-2) * 5; 5 = (-9 - 1) // -2\n",
    "9 % -2 = -1\n",
    "9 // -2 = -5\n",
    "change: 9 = -1 + (-2) * (-5) = 1 + (-2) * (-4); -4 = (9 - 1) // -2\n",
    "-8 % -2 = 0\n",
    "-8 // -2 = 4\n",
    "change: 8 = 0 + (-2) * 4; 4 = (-8 - 1) // -2\n",
    "```\n",
    "\n",
    "So, just need to -1 when do the //."
   ]
  },
  {
   "cell_type": "code",
   "execution_count": 1,
   "metadata": {},
   "outputs": [],
   "source": [
    "class Solution:\n",
    "    def baseNeg2(self, N: int) -> str:\n",
    "        if N==0:\n",
    "            return \"0\"\n",
    "        ans = \"\"\n",
    "        \n",
    "        while N:\n",
    "            rem = abs(N % -2)\n",
    "            ans = str(rem) + ans\n",
    "            N -= 1\n",
    "            N = N // -2\n",
    "            \n",
    "        return ans"
   ]
  },
  {
   "cell_type": "code",
   "execution_count": 2,
   "metadata": {},
   "outputs": [
    {
     "name": "stdout",
     "output_type": "stream",
     "text": [
      "100100\n"
     ]
    }
   ],
   "source": [
    "sol = Solution()\n",
    "N = -28\n",
    "ans = sol.baseNeg2(N)\n",
    "print(ans)"
   ]
  },
  {
   "cell_type": "code",
   "execution_count": null,
   "metadata": {},
   "outputs": [],
   "source": []
  }
 ],
 "metadata": {
  "kernelspec": {
   "display_name": "Python 3",
   "language": "python",
   "name": "python3"
  },
  "language_info": {
   "codemirror_mode": {
    "name": "ipython",
    "version": 3
   },
   "file_extension": ".py",
   "mimetype": "text/x-python",
   "name": "python",
   "nbconvert_exporter": "python",
   "pygments_lexer": "ipython3",
   "version": "3.6.4"
  }
 },
 "nbformat": 4,
 "nbformat_minor": 4
}
